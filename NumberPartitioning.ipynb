{
  "nbformat": 4,
  "nbformat_minor": 0,
  "metadata": {
    "colab": {
      "name": "Entrega_UO720_NumberPartitioning.ipynb",
      "provenance": [],
      "collapsed_sections": []
    },
    "kernelspec": {
      "name": "python3",
      "display_name": "Python 3"
    },
    "language_info": {
      "name": "python"
    }
  },
  "cells": [
    {
      "cell_type": "markdown",
      "metadata": {
        "id": "bd6RgrTJCzbj"
      },
      "source": [
        "# Problema\n",
        "El problema consiste en separar una serie de números en dos grupos de forma que ambos sumen lo mismo."
      ]
    },
    {
      "cell_type": "markdown",
      "metadata": {
        "id": "ZOCUzDDhCoVw"
      },
      "source": [
        "# Ising"
      ]
    },
    {
      "cell_type": "markdown",
      "metadata": {
        "id": "bELWxRVVQmjV"
      },
      "source": [
        "Si consideramos el uso de spins 1 y -1 se puede considerar en la forma:\n",
        "$n_0*s_0+n_1*s_1...n_n*s_n$\n",
        "\n",
        "Agrupando los elementos con spin 1 y los de spin -1, de esta forma se trataría de acercar esa suma a 0. \n",
        "Esto lo podemos representar de la siguiente forma para convertirlo en un problema de minimización:\n",
        "\n",
        "$(\\sum_{i=1}^{n}n_is_i)^2$\n",
        "\n",
        "Aunque también podríamos utilizar el valor absoluto en lugar del cuadrado: \n",
        "\n",
        "$|\\sum_{i=1}^{n}n_is_i|$\n",
        "\n",
        "En cualquiera de los casos será mínimo cuando el sumatorio tienda a 0 que será cuando ambos grupos tengan el mismo valor. Para este ejercicio utilizaremos el primero.\n"
      ]
    },
    {
      "cell_type": "code",
      "metadata": {
        "colab": {
          "base_uri": "https://localhost:8080/",
          "height": 72
        },
        "id": "xxyX0ytpKQ8p",
        "outputId": "b2241ffc-f807-4878-e17b-d070987165ab"
      },
      "source": [
        "from sympy import init_printing, Symbol, expand, summation\n",
        "from sympy import *\n",
        "\n",
        "init_printing()\n",
        "s1 = Symbol('s_1')#s0\n",
        "s2 = Symbol('s_2')#s1\n",
        "s3 = Symbol('s_3')#s2\n",
        "s4 = Symbol('s_4')#s3\n",
        "n1= Symbol('n_1')\n",
        "n2= Symbol('n_2')\n",
        "n3= Symbol('n_3')\n",
        "n4= Symbol('n_4')\n",
        "ni= Symbol ('n_i')\n",
        "si= Symbol ('s_i')\n",
        "i= Symbol('i')\n",
        "n = Symbol('n')\n",
        "h0=(Sum(ni*si,(i,1,n)))**2\n",
        "\n",
        "display(h0)\n",
        "\n"
      ],
      "execution_count": null,
      "outputs": [
        {
          "output_type": "display_data",
          "data": {
            "image/png": "[encoded data removed]",
            "text/latex": "$\\displaystyle \\left(\\sum_{i=1}^{n} n_{i} s_{i}\\right)^{2}$",
            "text/plain": [
              "             2\n",
              "⎛  n        ⎞ \n",
              "⎜ ___       ⎟ \n",
              "⎜ ╲         ⎟ \n",
              "⎜  ╲        ⎟ \n",
              "⎜  ╱   nᵢ⋅sᵢ⎟ \n",
              "⎜ ╱         ⎟ \n",
              "⎜ ‾‾‾       ⎟ \n",
              "⎝i = 1      ⎠ "
            ]
          },
          "metadata": {
            "tags": []
          }
        }
      ]
    },
    {
      "cell_type": "markdown",
      "metadata": {
        "id": "MaTHfYGwQ7Hl"
      },
      "source": [
        "Pongamos que queremos resolver el problema para un ejemplo sencillo como (1,2,3,4). Primero vamos a expandir el sumatorio para cuatro números cualesquiera $n_i$:"
      ]
    },
    {
      "cell_type": "code",
      "metadata": {
        "colab": {
          "base_uri": "https://localhost:8080/",
          "height": 77
        },
        "id": "lWMLroqqRDKn",
        "outputId": "bfea286a-fd48-4e59-8462-7ffc0db01ac1"
      },
      "source": [
        "h1=(s1*n1+n2*s2+n3*s3+n4*s4)**2\n",
        "display(h1)\n",
        "h2=h1.expand()\n",
        "print()\n",
        "display(h2)"
      ],
      "execution_count": null,
      "outputs": [
        {
          "output_type": "display_data",
          "data": {
            "image/png": "[encoded data removed]",
            "text/latex": "$\\displaystyle \\left(n_{1} s_{1} + n_{2} s_{2} + n_{3} s_{3} + n_{4} s_{4}\\right)^{2}$",
            "text/plain": [
              "                               2\n",
              "(n₁⋅s₁ + n₂⋅s₂ + n₃⋅s₃ + n₄⋅s₄) "
            ]
          },
          "metadata": {
            "tags": []
          }
        },
        {
          "output_type": "stream",
          "text": [
            "\n"
          ],
          "name": "stdout"
        },
        {
          "output_type": "display_data",
          "data": {
            "image/png": "[encoded data removed]",
            "text/latex": "$\\displaystyle n_{1}^{2} s_{1}^{2} + 2 n_{1} n_{2} s_{1} s_{2} + 2 n_{1} n_{3} s_{1} s_{3} + 2 n_{1} n_{4} s_{1} s_{4} + n_{2}^{2} s_{2}^{2} + 2 n_{2} n_{3} s_{2} s_{3} + 2 n_{2} n_{4} s_{2} s_{4} + n_{3}^{2} s_{3}^{2} + 2 n_{3} n_{4} s_{3} s_{4} + n_{4}^{2} s_{4}^{2}$",
            "text/plain": [
              "  2   2                                                     2   2             \n",
              "n₁ ⋅s₁  + 2⋅n₁⋅n₂⋅s₁⋅s₂ + 2⋅n₁⋅n₃⋅s₁⋅s₃ + 2⋅n₁⋅n₄⋅s₁⋅s₄ + n₂ ⋅s₂  + 2⋅n₂⋅n₃⋅s₂\n",
              "\n",
              "                        2   2                     2   2\n",
              "⋅s₃ + 2⋅n₂⋅n₄⋅s₂⋅s₄ + n₃ ⋅s₃  + 2⋅n₃⋅n₄⋅s₃⋅s₄ + n₄ ⋅s₄ "
            ]
          },
          "metadata": {
            "tags": []
          }
        }
      ]
    },
    {
      "cell_type": "markdown",
      "metadata": {
        "id": "QbCfYFLCRU28"
      },
      "source": [
        "Ahora vamos a especificarlo para nuestro problema concreto:"
      ]
    },
    {
      "cell_type": "code",
      "metadata": {
        "colab": {
          "base_uri": "https://localhost:8080/",
          "height": 38
        },
        "id": "yQCrlUIJRYFG",
        "outputId": "1db29f46-9651-401f-a4e3-95a0ae85c3e7"
      },
      "source": [
        "display(h2.subs({n1:1,n2:2,n3:3,n4:4}))"
      ],
      "execution_count": null,
      "outputs": [
        {
          "output_type": "display_data",
          "data": {
            "image/png": "[encoded data removed]",
            "text/latex": "$\\displaystyle s_{1}^{2} + 4 s_{1} s_{2} + 6 s_{1} s_{3} + 8 s_{1} s_{4} + 4 s_{2}^{2} + 12 s_{2} s_{3} + 16 s_{2} s_{4} + 9 s_{3}^{2} + 24 s_{3} s_{4} + 16 s_{4}^{2}$",
            "text/plain": [
              "  2                                     2                             2       \n",
              "s₁  + 4⋅s₁⋅s₂ + 6⋅s₁⋅s₃ + 8⋅s₁⋅s₄ + 4⋅s₂  + 12⋅s₂⋅s₃ + 16⋅s₂⋅s₄ + 9⋅s₃  + 24⋅s\n",
              "\n",
              "            2\n",
              "₃⋅s₄ + 16⋅s₄ "
            ]
          },
          "metadata": {
            "tags": []
          }
        }
      ]
    },
    {
      "cell_type": "markdown",
      "metadata": {
        "id": "ZVNDshhdSBNW"
      },
      "source": [
        "De ahí sacamos los valores para $J_{ij}$ que son $n_in_j$."
      ]
    },
    {
      "cell_type": "markdown",
      "metadata": {
        "id": "-ZZFGvgg1PUt"
      },
      "source": [
        "# QUBO"
      ]
    },
    {
      "cell_type": "markdown",
      "metadata": {
        "id": "UoutnSHk1aAX"
      },
      "source": [
        "Otra forma de afrontar el problema es con QUBO en lugar de Ising, en este caso los valores para cada subconjunto serían 0 o 1 en lugar de un spin -1, 1. De esta forma la suma de los elementos pertenecientes al subset del 1 sería $\\sum_{i=1}^{n}n_ix_i$ y la suma del subset del 0 sería la diferencia entre el sumatorio total y el del 1: $\\sum_{i=1}^{n}n_i-\\sum_{i=1}^{n}n_ix_i$"
      ]
    },
    {
      "cell_type": "markdown",
      "metadata": {
        "id": "EnVdH-Sf34DU"
      },
      "source": [
        "La diferencia entre las sumas es por tanto $\\sum_{i=1}^{n}n_i-2\\sum_{i=1}^{n}n_ix_i$\n"
      ]
    },
    {
      "cell_type": "markdown",
      "metadata": {
        "id": "GjocaaVM4q2e"
      },
      "source": [
        "Si consideramos el sumatorio de todos los elementos como c: $c-2\\sum_{i=1}^{n}n_ix_i$ "
      ]
    },
    {
      "cell_type": "markdown",
      "metadata": {
        "id": "kPKjGM455ddP"
      },
      "source": [
        "Para minimizar esta diferencia minimizamos su cuadrado como en el caso de Ising"
      ]
    },
    {
      "cell_type": "markdown",
      "metadata": {
        "id": "iV47_FXf5mgQ"
      },
      "source": [
        "$diff^2=(c-2\\sum_{i=1}^{n}n_ix_i)^2=c^2+4x^tQ_x$"
      ]
    },
    {
      "cell_type": "markdown",
      "metadata": {
        "id": "9JOXi0ZZ6ZfM"
      },
      "source": [
        "Con la matriz Q construida con: $q_{ii}=n_i(n_i-c)$   y   $q_{ij}=n_in_j$"
      ]
    },
    {
      "cell_type": "markdown",
      "metadata": {
        "id": "QOyg5h6_7KmK"
      },
      "source": [
        "Quitando las constantes el problema de minimización se queda con la forma $x^tQx$ con la matriz $Q$ contruida de la forma ya mencionada."
      ]
    },
    {
      "cell_type": "markdown",
      "metadata": {
        "id": "mZrN4uQT7lOg"
      },
      "source": [
        "# Código y ejecución"
      ]
    },
    {
      "cell_type": "markdown",
      "metadata": {
        "id": "fLsEJNTC1U6Z"
      },
      "source": [
        " Vamos a comenzar con dimod, generaremos los valores tanto de $J$ y $h$ para Ising como de $Q$ para QUBO aunque la creación del modelo con QUBO quedará comentada y el código se ejecutará con Ising, en cualquier caso se pueden intercambiar los comentarios y utilizar QUBO indistintamente."
      ]
    },
    {
      "cell_type": "code",
      "metadata": {
        "id": "0usRWe5fSawx",
        "colab": {
          "base_uri": "https://localhost:8080/",
          "height": 1000
        },
        "outputId": "b4b7e229-8ae2-4dee-c19b-319c4b202201"
      },
      "source": [
        "!pip install dwave-ocean-sdk"
      ],
      "execution_count": 1,
      "outputs": [
        {
          "output_type": "stream",
          "text": [
            "Collecting dwave-ocean-sdk\n",
            "  Downloading https://files.pythonhosted.org/packages/8f/d8/aafd6cbd30c3e2a49e13621d021d5a964c21ee48f61b539c21d7b20c4e39/dwave_ocean_sdk-3.3.0-py3-none-any.whl\n",
            "Collecting dwave-system==1.4.0\n",
            "\u001b[?25l  Downloading https://files.pythonhosted.org/packages/1b/3c/1c61e054f9753239fc9a592fbe81646503d7331c3df158db0889df5473db/dwave_system-1.4.0-py3-none-any.whl (82kB)\n",
            "\u001b[K     |████████████████████████████████| 92kB 5.4MB/s \n",
            "\u001b[?25hCollecting dwave-inspector==0.2.5\n",
            "  Downloading https://files.pythonhosted.org/packages/25/0b/b6600648c8f721bb957f2d337191e018b437df1fbb33f7bc1e5d8b041a51/dwave_inspector-0.2.5-py3-none-any.whl\n",
            "Collecting dwave-hybrid==0.6.1\n",
            "\u001b[?25l  Downloading https://files.pythonhosted.org/packages/01/91/52bd173354c6c7ab60702238e661c8d9701752194f5cdf75b6ce6ba9e5e0/dwave_hybrid-0.6.1-py3-none-any.whl (63kB)\n",
            "\u001b[K     |████████████████████████████████| 71kB 7.5MB/s \n",
            "\u001b[?25hCollecting penaltymodel==0.16.4\n",
            "  Downloading https://files.pythonhosted.org/packages/ae/78/86e98f2d154a3420b72c436b49a2b7369ab551cf27a8ced50ca6a8334e64/penaltymodel-0.16.4-py3-none-any.whl\n",
            "Collecting dwave-networkx==0.8.8\n",
            "\u001b[?25l  Downloading https://files.pythonhosted.org/packages/34/51/feeaa00ae0ccfb6a56731d917f998bc9606f0db2a9719b9b4947a206defc/dwave_networkx-0.8.8-py2.py3-none-any.whl (81kB)\n",
            "\u001b[K     |████████████████████████████████| 81kB 6.5MB/s \n",
            "\u001b[?25hCollecting dwave-neal==0.5.7\n",
            "\u001b[?25l  Downloading https://files.pythonhosted.org/packages/77/9e/033d58e47d4581ce7b92c00927d22c410b574c3c3b399d4c621e2a768d0c/dwave_neal-0.5.7-cp37-cp37m-manylinux1_x86_64.whl (397kB)\n",
            "\u001b[K     |████████████████████████████████| 399kB 13.9MB/s \n",
            "\u001b[?25hCollecting dwave-tabu==0.3.1\n",
            "\u001b[?25l  Downloading https://files.pythonhosted.org/packages/a3/65/e77a0e70ae12bfdb76517e2b5f79fe2bf4bafb70460d405a64a4f210c6d7/dwave_tabu-0.3.1-cp37-cp37m-manylinux1_x86_64.whl (790kB)\n",
            "\u001b[K     |████████████████████████████████| 798kB 19.1MB/s \n",
            "\u001b[?25hCollecting penaltymodel-mip==0.2.4; platform_machine == \"x86_64\" or platform_machine == \"amd64\" or platform_machine == \"AMD64\"\n",
            "  Downloading https://files.pythonhosted.org/packages/f5/d1/e73cb7f9fdcbe0023c49f2916f57f345654dec6f44567ee91949ac53a4d3/penaltymodel_mip-0.2.4-py3-none-any.whl\n",
            "Collecting dwavebinarycsp==0.1.2\n",
            "  Downloading https://files.pythonhosted.org/packages/e6/f2/8422100bfa1a9cce5c0f3ca8b088a3d1f46582c0085adb2db09837dbc0f1/dwavebinarycsp-0.1.2-py3-none-any.whl\n",
            "Collecting dwave-qbsolv==0.3.2\n",
            "\u001b[?25l  Downloading https://files.pythonhosted.org/packages/4f/3a/5bcfd681ed141866dc7a0e5b58de790236b6e7896cade92ecad16c1a3dca/dwave_qbsolv-0.3.2-cp37-cp37m-manylinux1_x86_64.whl (204kB)\n",
            "\u001b[K     |████████████████████████████████| 204kB 39.3MB/s \n",
            "\u001b[?25hCollecting penaltymodel-cache==0.4.3\n",
            "  Downloading https://files.pythonhosted.org/packages/12/24/d76f4ef9c162c0d2dd3404ba1dfff3be7af1d6ac689d67749b49349b8f80/penaltymodel_cache-0.4.3-py3-none-any.whl\n",
            "Collecting pyqubo==1.0.10\n",
            "\u001b[?25l  Downloading https://files.pythonhosted.org/packages/b7/8b/1a8d7ef9ec02fca382d4108779d376058a2a5bc8789891ee71f433b4efe7/pyqubo-1.0.10-cp37-cp37m-manylinux1_x86_64.whl (788kB)\n",
            "\u001b[K     |████████████████████████████████| 788kB 37.4MB/s \n",
            "\u001b[?25hCollecting penaltymodel-lp==0.1.4\n",
            "  Downloading https://files.pythonhosted.org/packages/70/53/ca76392b6dcd136eace77ab940704138443d30501d22a982646c89c559d8/penaltymodel_lp-0.1.4-py3-none-any.whl\n",
            "Collecting dimod==0.9.13\n",
            "\u001b[?25l  Downloading https://files.pythonhosted.org/packages/6c/fa/435d50ad5914861217c51944a7245373c2018aa71d3a66a3b8ea1bd32a00/dimod-0.9.13-cp37-cp37m-manylinux1_x86_64.whl (7.0MB)\n",
            "\u001b[K     |████████████████████████████████| 7.0MB 21.4MB/s \n",
            "\u001b[?25hCollecting minorminer==0.2.5\n",
            "\u001b[?25l  Downloading https://files.pythonhosted.org/packages/62/ca/158c0ceb98a4633360e810964fbacd87e328a598d80296a88ebd93b252f9/minorminer-0.2.5-cp37-cp37m-manylinux1_x86_64.whl (3.3MB)\n",
            "\u001b[K     |████████████████████████████████| 3.3MB 37.6MB/s \n",
            "\u001b[?25hCollecting dwave-greedy==0.1.2\n",
            "\u001b[?25l  Downloading https://files.pythonhosted.org/packages/1b/d8/33a03b1fe60483e0ec987767af54d2336076ff9e3b66c7cfe703639e7573/dwave_greedy-0.1.2-cp37-cp37m-manylinux1_x86_64.whl (405kB)\n",
            "\u001b[K     |████████████████████████████████| 409kB 43.6MB/s \n",
            "\u001b[?25hCollecting dwave-cloud-client==0.8.4\n",
            "\u001b[?25l  Downloading https://files.pythonhosted.org/packages/59/fb/252345f02bc39d8d87861434429e8a440cb1bb71af30a6859be2350ef94a/dwave_cloud_client-0.8.4-py3-none-any.whl (87kB)\n",
            "\u001b[K     |████████████████████████████████| 92kB 10.0MB/s \n",
            "\u001b[?25hRequirement already satisfied: networkx<3.0,>=2.0 in /usr/local/lib/python3.7/dist-packages (from dwave-system==1.4.0->dwave-ocean-sdk) (2.5.1)\n",
            "Requirement already satisfied: numpy<2.0.0,>=1.14.0 in /usr/local/lib/python3.7/dist-packages (from dwave-system==1.4.0->dwave-ocean-sdk) (1.19.5)\n",
            "Collecting homebase<2.0.0,>=1.0.0\n",
            "  Downloading https://files.pythonhosted.org/packages/50/ad/e0080c35bd177682d5118a95bc2e7c1ac0541394b4ffce5e9554b6a077f9/homebase-1.0.1-py2.py3-none-any.whl\n",
            "Requirement already satisfied: Flask>=1.1.1 in /usr/local/lib/python3.7/dist-packages (from dwave-inspector==0.2.5->dwave-ocean-sdk) (1.1.4)\n",
            "Requirement already satisfied: importlib-resources>=3.2.0; python_version < \"3.9\" in /usr/local/lib/python3.7/dist-packages (from dwave-inspector==0.2.5->dwave-ocean-sdk) (5.1.3)\n",
            "Requirement already satisfied: click>5 in /usr/local/lib/python3.7/dist-packages (from dwave-hybrid==0.6.1->dwave-ocean-sdk) (7.1.2)\n",
            "Collecting plucky>=0.4.3\n",
            "  Downloading https://files.pythonhosted.org/packages/d8/70/7b43e7280284bafecb345f4edb3eea7042cf0d089c5d112920eda650fda5/plucky-0.4.3-py2.py3-none-any.whl\n",
            "Requirement already satisfied: six<2.0.0,>=1.11.0 in /usr/local/lib/python3.7/dist-packages (from penaltymodel==0.16.4->dwave-ocean-sdk) (1.15.0)\n",
            "Requirement already satisfied: decorator<5.0.0,>=4.1.0 in /usr/local/lib/python3.7/dist-packages (from dwave-networkx==0.8.8->dwave-ocean-sdk) (4.4.2)\n",
            "Collecting ortools<9.0.0,>=6.6.4659\n",
            "\u001b[?25l  Downloading https://files.pythonhosted.org/packages/8f/df/aff5a745ab55d95fcf50ec3c0aa8cbb370f807692eb818cfcda7062d607a/ortools-8.2.8710-cp37-cp37m-manylinux1_x86_64.whl (14.2MB)\n",
            "\u001b[K     |████████████████████████████████| 14.2MB 292kB/s \n",
            "\u001b[?25hCollecting Deprecated>=1.2.10\n",
            "  Downloading https://files.pythonhosted.org/packages/fb/73/994edfcba74443146c84b91921fcc269374354118d4f452fb0c54c1cbb12/Deprecated-1.2.12-py2.py3-none-any.whl\n",
            "Requirement already satisfied: scipy<2.0.0,>=0.15.0 in /usr/local/lib/python3.7/dist-packages (from penaltymodel-lp==0.1.4->dwave-ocean-sdk) (1.4.1)\n",
            "Collecting fasteners\n",
            "  Downloading https://files.pythonhosted.org/packages/78/20/c862d765287e9e8b29f826749ebae8775bdca50b2cb2ca079346d5fbfd76/fasteners-0.16-py2.py3-none-any.whl\n",
            "Requirement already satisfied: python-dateutil>=2.7 in /usr/local/lib/python3.7/dist-packages (from dwave-cloud-client==0.8.4->dwave-ocean-sdk) (2.8.1)\n",
            "Requirement already satisfied: requests[socks]>=2.18 in /usr/local/lib/python3.7/dist-packages (from dwave-cloud-client==0.8.4->dwave-ocean-sdk) (2.23.0)\n",
            "Requirement already satisfied: Werkzeug<2.0,>=0.15 in /usr/local/lib/python3.7/dist-packages (from Flask>=1.1.1->dwave-inspector==0.2.5->dwave-ocean-sdk) (1.0.1)\n",
            "Requirement already satisfied: itsdangerous<2.0,>=0.24 in /usr/local/lib/python3.7/dist-packages (from Flask>=1.1.1->dwave-inspector==0.2.5->dwave-ocean-sdk) (1.1.0)\n",
            "Requirement already satisfied: Jinja2<3.0,>=2.10.1 in /usr/local/lib/python3.7/dist-packages (from Flask>=1.1.1->dwave-inspector==0.2.5->dwave-ocean-sdk) (2.11.3)\n",
            "Requirement already satisfied: zipp>=0.4; python_version < \"3.8\" in /usr/local/lib/python3.7/dist-packages (from importlib-resources>=3.2.0; python_version < \"3.9\"->dwave-inspector==0.2.5->dwave-ocean-sdk) (3.4.1)\n",
            "Requirement already satisfied: absl-py>=0.11 in /usr/local/lib/python3.7/dist-packages (from ortools<9.0.0,>=6.6.4659->penaltymodel-mip==0.2.4; platform_machine == \"x86_64\" or platform_machine == \"amd64\" or platform_machine == \"AMD64\"->dwave-ocean-sdk) (0.12.0)\n",
            "Collecting protobuf>=3.14.0\n",
            "\u001b[?25l  Downloading https://files.pythonhosted.org/packages/bb/f8/07b65b1c3a2334208208b8161857fd9c19f69ab5d2c5314ef5f0b5f07aa5/protobuf-3.17.1-cp37-cp37m-manylinux_2_5_x86_64.manylinux1_x86_64.whl (1.0MB)\n",
            "\u001b[K     |████████████████████████████████| 1.0MB 25.9MB/s \n",
            "\u001b[?25hRequirement already satisfied: wrapt<2,>=1.10 in /usr/local/lib/python3.7/dist-packages (from Deprecated>=1.2.10->pyqubo==1.0.10->dwave-ocean-sdk) (1.12.1)\n",
            "Requirement already satisfied: urllib3!=1.25.0,!=1.25.1,<1.26,>=1.21.1 in /usr/local/lib/python3.7/dist-packages (from requests[socks]>=2.18->dwave-cloud-client==0.8.4->dwave-ocean-sdk) (1.24.3)\n",
            "Requirement already satisfied: certifi>=2017.4.17 in /usr/local/lib/python3.7/dist-packages (from requests[socks]>=2.18->dwave-cloud-client==0.8.4->dwave-ocean-sdk) (2020.12.5)\n",
            "Requirement already satisfied: chardet<4,>=3.0.2 in /usr/local/lib/python3.7/dist-packages (from requests[socks]>=2.18->dwave-cloud-client==0.8.4->dwave-ocean-sdk) (3.0.4)\n",
            "Requirement already satisfied: idna<3,>=2.5 in /usr/local/lib/python3.7/dist-packages (from requests[socks]>=2.18->dwave-cloud-client==0.8.4->dwave-ocean-sdk) (2.10)\n",
            "Requirement already satisfied: PySocks!=1.5.7,>=1.5.6; extra == \"socks\" in /usr/local/lib/python3.7/dist-packages (from requests[socks]>=2.18->dwave-cloud-client==0.8.4->dwave-ocean-sdk) (1.7.1)\n",
            "Requirement already satisfied: MarkupSafe>=0.23 in /usr/local/lib/python3.7/dist-packages (from Jinja2<3.0,>=2.10.1->Flask>=1.1.1->dwave-inspector==0.2.5->dwave-ocean-sdk) (2.0.1)\n",
            "Installing collected packages: dimod, dwave-tabu, dwave-networkx, plucky, homebase, dwave-cloud-client, fasteners, minorminer, dwave-system, dwave-inspector, dwave-neal, dwave-greedy, dwave-hybrid, penaltymodel, protobuf, ortools, penaltymodel-mip, penaltymodel-cache, penaltymodel-lp, dwavebinarycsp, dwave-qbsolv, Deprecated, pyqubo, dwave-ocean-sdk\n",
            "  Found existing installation: protobuf 3.12.4\n",
            "    Uninstalling protobuf-3.12.4:\n",
            "      Successfully uninstalled protobuf-3.12.4\n",
            "Successfully installed Deprecated-1.2.12 dimod-0.9.13 dwave-cloud-client-0.8.4 dwave-greedy-0.1.2 dwave-hybrid-0.6.1 dwave-inspector-0.2.5 dwave-neal-0.5.7 dwave-networkx-0.8.8 dwave-ocean-sdk-3.3.0 dwave-qbsolv-0.3.2 dwave-system-1.4.0 dwave-tabu-0.3.1 dwavebinarycsp-0.1.2 fasteners-0.16 homebase-1.0.1 minorminer-0.2.5 ortools-8.2.8710 penaltymodel-0.16.4 penaltymodel-cache-0.4.3 penaltymodel-lp-0.1.4 penaltymodel-mip-0.2.4 plucky-0.4.3 protobuf-3.17.1 pyqubo-1.0.10\n"
          ],
          "name": "stdout"
        },
        {
          "output_type": "display_data",
          "data": {
            "application/vnd.colab-display-data+json": {
              "pip_warning": {
                "packages": [
                  "google"
                ]
              }
            }
          },
          "metadata": {
            "tags": []
          }
        }
      ]
    },
    {
      "cell_type": "code",
      "metadata": {
        "id": "lee-WZkBtwgW",
        "colab": {
          "base_uri": "https://localhost:8080/"
        },
        "outputId": "4b7a22d1-6d7d-4de2-f290-057150179cb0"
      },
      "source": [
        "!dwave setup"
      ],
      "execution_count": 1,
      "outputs": [
        {
          "output_type": "stream",
          "text": [
            "Optionally install non-open-source packages and configure your environment.\n",
            "\n",
            "Do you want to select non-open-source packages to install (y/n)? [y]: n\n",
            "\n",
            "Creating the D-Wave configuration file.\n",
            "Configuration file not found; the default location is: /root/.config/dwave/dwave.conf\n",
            "Configuration file path [/root/.config/dwave/dwave.conf]: \n",
            "Configuration file path does not exist. Create it? [y/N]: y\n",
            "Profile (create new) [prod]: \n",
            "API endpoint URL [skip]: https://cloud.dwavesys.com/sapi/\n",
            "Authentication token [skip]: DEV-8a8b590fb1a50eda5d555879002f08ed816c82a0\n",
            "Default client class [skip]: \n",
            "Default solver [skip]: \n",
            "Configuration saved.\n"
          ],
          "name": "stdout"
        }
      ]
    },
    {
      "cell_type": "markdown",
      "metadata": {
        "id": "wbMYlj04n5T5"
      },
      "source": [
        "Una vez instalado y configurado (si queremos utilizar los annealers) preparamos los datos del problema con dos diccionarios para $J$ y $h$ y un listado de números."
      ]
    },
    {
      "cell_type": "code",
      "metadata": {
        "id": "jO8KynRin6IK"
      },
      "source": [
        "import numpy as np\n",
        "import dimod\n",
        "from dimod.reference.samplers import ExactSolver\n",
        "from dwave.system.samplers import DWaveSampler\n",
        "from dwave.system.composites import EmbeddingComposite\n",
        "J = {}\n",
        "h = {}\n",
        "Q= {}\n",
        "values=[2,4,3,1]\n",
        "#values=[2,7,16,25,14,3,8,4,21,43,16,1]"
      ],
      "execution_count": 18,
      "outputs": []
    },
    {
      "cell_type": "markdown",
      "metadata": {
        "id": "pA_k29oWtT1F"
      },
      "source": [
        "A continuación generamos los valores de $J$ y $Q$ de la forma mencionada anteriormente ($h$ no contiene ningún elemento en nuestro caso)"
      ]
    },
    {
      "cell_type": "code",
      "metadata": {
        "id": "omj209oUtVeN"
      },
      "source": [
        "c=0\n",
        "for value in values:\n",
        "  c+=value\n",
        "i=0\n",
        "j=0\n",
        "while i < len(values):\n",
        "    while j<len(values):\n",
        "        if i==j:\n",
        "            Q[(i,j)]=values[i]*(values[i]-c)\n",
        "        else:\n",
        "            Q[(i,j)]=values[i]*values[j]\n",
        "        J[(i,j)]=values[i]*values[j]\n",
        "        j+=1\n",
        "    i+=1\n",
        "    j=0\n",
        "i=0\n",
        "j=0"
      ],
      "execution_count": 19,
      "outputs": []
    },
    {
      "cell_type": "markdown",
      "metadata": {
        "id": "11PKr8sYt7rX"
      },
      "source": [
        "Y los cargamos en el modelo"
      ]
    },
    {
      "cell_type": "code",
      "metadata": {
        "colab": {
          "base_uri": "https://localhost:8080/"
        },
        "id": "gO4ud79Lt_K_",
        "outputId": "866a0c2c-d5c2-48ad-b570-fa61bfad6a73"
      },
      "source": [
        "model = dimod.BinaryQuadraticModel(h, J, 0.0, dimod.SPIN)\n",
        "#model = dimod.BinaryQuadraticModel.from_qubo(Q)\n",
        "print(\"The model we are going to solve in BinaryQuadratic is\")\n",
        "print(model)\n",
        "print()\n",
        "\n"
      ],
      "execution_count": 25,
      "outputs": [
        {
          "output_type": "stream",
          "text": [
            "The model we are going to solve in BinaryQuadratic is\n",
            "BinaryQuadraticModel({0: 0.0, 1: 0.0, 2: 0.0, 3: 0.0}, {(0, 1): 16, (0, 2): 12, (0, 3): 4, (1, 2): 24, (1, 3): 8, (2, 3): 6}, 30.0, 'SPIN')\n",
            "\n"
          ],
          "name": "stdout"
        }
      ]
    },
    {
      "cell_type": "markdown",
      "metadata": {
        "id": "rpJrzH-fuBch"
      },
      "source": [
        "Primero lo ejecutamos con el exact solver:"
      ]
    },
    {
      "cell_type": "code",
      "metadata": {
        "colab": {
          "base_uri": "https://localhost:8080/"
        },
        "id": "bQU3H7b1uFGE",
        "outputId": "1136abdd-3500-4fb1-e9c0-08ddd5422361"
      },
      "source": [
        "sampler = ExactSolver()\n",
        "solution = sampler.sample(model)\n",
        "print(\"The exact solution is \")\n",
        "print(solution)\n",
        "print()"
      ],
      "execution_count": 26,
      "outputs": [
        {
          "output_type": "stream",
          "text": [
            "The exact solution is \n",
            "    0  1  2  3 energy num_oc.\n",
            "6  +1 -1 +1 -1    0.0       1\n",
            "12 -1 +1 -1 +1    0.0       1\n",
            "2  +1 +1 -1 -1    4.0       1\n",
            "3  -1 +1 -1 -1    4.0       1\n",
            "8  -1 -1 +1 +1    4.0       1\n",
            "9  +1 -1 +1 +1    4.0       1\n",
            "4  -1 +1 +1 -1   16.0       1\n",
            "7  -1 -1 +1 -1   16.0       1\n",
            "13 +1 +1 -1 +1   16.0       1\n",
            "14 +1 -1 -1 +1   16.0       1\n",
            "1  +1 -1 -1 -1   36.0       1\n",
            "11 -1 +1 +1 +1   36.0       1\n",
            "5  +1 +1 +1 -1   64.0       1\n",
            "15 -1 -1 -1 +1   64.0       1\n",
            "0  -1 -1 -1 -1  100.0       1\n",
            "10 +1 +1 +1 +1  100.0       1\n",
            "['SPIN', 16 rows, 16 samples, 4 variables]\n",
            "\n"
          ],
          "name": "stdout"
        }
      ]
    },
    {
      "cell_type": "markdown",
      "metadata": {
        "id": "JPOZGO4TuHUj"
      },
      "source": [
        "Con simulated annealing"
      ]
    },
    {
      "cell_type": "code",
      "metadata": {
        "colab": {
          "base_uri": "https://localhost:8080/"
        },
        "id": "dvJtc5D9uJfY",
        "outputId": "149d776c-2843-4b5c-8873-d95207fab25d"
      },
      "source": [
        "sampler = dimod.SimulatedAnnealingSampler()\n",
        "response = sampler.sample(model, num_reads=10)\n",
        "print(\"La solucion con simulated annealing es\")\n",
        "print(response)"
      ],
      "execution_count": 27,
      "outputs": [
        {
          "output_type": "stream",
          "text": [
            "La solucion con simulated annealing es\n",
            "   0  1  2  3 energy num_oc.\n",
            "0 -1 +1 -1 +1    0.0       1\n",
            "1 -1 +1 -1 +1    0.0       1\n",
            "2 -1 +1 -1 +1    0.0       1\n",
            "3 +1 -1 +1 -1    0.0       1\n",
            "4 +1 -1 +1 -1    0.0       1\n",
            "5 +1 -1 +1 -1    0.0       1\n",
            "6 -1 +1 -1 +1    0.0       1\n",
            "7 +1 -1 +1 -1    0.0       1\n",
            "8 +1 -1 +1 -1    0.0       1\n",
            "9 -1 +1 -1 +1    0.0       1\n",
            "['SPIN', 10 rows, 10 samples, 4 variables]\n"
          ],
          "name": "stdout"
        }
      ]
    },
    {
      "cell_type": "markdown",
      "metadata": {
        "id": "B0aQJp98uOK9"
      },
      "source": [
        "Y ahora con un annealer (requiere tener el setup realizado):"
      ]
    },
    {
      "cell_type": "code",
      "metadata": {
        "id": "4NcGUn2vuTEp",
        "colab": {
          "base_uri": "https://localhost:8080/"
        },
        "outputId": "40d98ca5-abea-4372-b425-b251660c70ea"
      },
      "source": [
        "sampler = EmbeddingComposite(DWaveSampler(solver='Advantage_system1.1'))\n",
        "sampler_name = sampler.properties['child_properties']['chip_id']\n",
        "response = sampler.sample(model, num_reads=5000)\n",
        "print(\"The solution with D-Wave's quantum annealer called \",sampler_name,\"en\")\n",
        "print(response)"
      ],
      "execution_count": 28,
      "outputs": [
        {
          "output_type": "stream",
          "text": [
            "The solution with D-Wave's quantum annealer called  Advantage_system1.1 en\n",
            "    0  1  2  3 energy num_oc. chain_.\n",
            "0  +1 -1 +1 -1    0.0     957     0.0\n",
            "1  -1 +1 -1 +1    0.0    1698     0.0\n",
            "2  -1 +1 -1 -1    4.0     674     0.0\n",
            "3  -1 -1 +1 +1    4.0     736     0.0\n",
            "4  +1 +1 -1 -1    4.0     469     0.0\n",
            "5  +1 -1 +1 +1    4.0     355     0.0\n",
            "6  -1 -1 +1 -1   16.0      28     0.0\n",
            "7  +1 +1 -1 +1   16.0      19     0.0\n",
            "8  +1 -1 -1 +1   16.0      21     0.0\n",
            "9  -1 +1 +1 -1   16.0      42     0.0\n",
            "10 +1 -1 -1 -1   36.0       1     0.0\n",
            "['SPIN', 11 rows, 5000 samples, 4 variables]\n"
          ],
          "name": "stdout"
        }
      ]
    },
    {
      "cell_type": "markdown",
      "metadata": {
        "id": "xirFlPwGuYXs"
      },
      "source": [
        "Y con otro:"
      ]
    },
    {
      "cell_type": "code",
      "metadata": {
        "id": "aK6BFI-Ouc-U",
        "colab": {
          "base_uri": "https://localhost:8080/"
        },
        "outputId": "f6acada5-f926-4ee9-cdfe-af4c6f9fa4ac"
      },
      "source": [
        "sampler = EmbeddingComposite(DWaveSampler(solver='DW_2000Q_6'))\n",
        "sampler_name = sampler.properties['child_properties']['chip_id']\n",
        "response = sampler.sample(model, num_reads=5000)\n",
        "print(\"The solution with D-Wave's quantum annealer called \",sampler_name,\"en\")\n",
        "print(response)\n",
        "print()"
      ],
      "execution_count": 29,
      "outputs": [
        {
          "output_type": "stream",
          "text": [
            "The solution with D-Wave's quantum annealer called  DW_2000Q_6 en\n",
            "    0  1  2  3 energy num_oc. chain_.\n",
            "0  -1 +1 -1 +1    0.0    1567     0.0\n",
            "1  +1 -1 +1 -1    0.0    1505     0.0\n",
            "2  -1 +1 -1 -1    4.0     558     0.0\n",
            "3  -1 -1 +1 +1    4.0     469     0.0\n",
            "4  +1 -1 +1 +1    4.0     462     0.0\n",
            "5  +1 +1 -1 -1    4.0     393     0.0\n",
            "6  -1 +1 +1 -1   16.0       8     0.0\n",
            "7  +1 -1 -1 +1   16.0      18     0.0\n",
            "8  +1 +1 -1 +1   16.0      11     0.0\n",
            "9  -1 -1 +1 -1   16.0       7     0.0\n",
            "10 +1 -1 -1 -1   36.0       1     0.0\n",
            "11 -1 -1 -1 +1   64.0       1     0.0\n",
            "['SPIN', 12 rows, 5000 samples, 4 variables]\n",
            "\n"
          ],
          "name": "stdout"
        }
      ]
    },
    {
      "cell_type": "markdown",
      "metadata": {
        "id": "WGZOrbHEE01Y"
      },
      "source": [
        "Esta notebook y el código en python para el Dwave IDE están disponibles en https://github.com/uo720/NumberPartitioningDwave"
      ]
    }
  ]
}